{
 "cells": [
  {
   "cell_type": "markdown",
   "metadata": {},
   "source": [
    "Q1. Explain the difference between simple linear regression and multiple linear regression. Provide an example of each."
   ]
  },
  {
   "cell_type": "markdown",
   "metadata": {},
   "source": [
    "Linear Regression:- it is statistical method that allows us to summerize and study the relationship between two continues variables.linear regression is used only when dataset contains one independent feature and one dependent feature.\n",
    "gradient descent curve forms when datapoints are joined in graph.\n",
    "equation:- h(x)=Θ0+Θ1x\n",
    "Θ0-->intercept\n",
    "Θ1-->slope or coefficient\n",
    "x-->data points\n",
    "ex:-\n",
    "if we want to find height(dependent feature) of a person based on his weight(independent feature) then we use linear regression algorithm.\n",
    "multiple linear Regression:-multiple regression extends the simple linear regression where dataset contains multiple independent features but only one dependent feature.\n",
    "equation:-h(x)=Θ0+Θ1x1+Θ2x2\n",
    "ex:-\n",
    "if we want to predict the salary of person based on his experience,education level and age then we use multiple regression."
   ]
  },
  {
   "cell_type": "markdown",
   "metadata": {},
   "source": [
    "Q2. Discuss the assumptions of linear regression. How can you check whether these assumptions hold in a given dataset?"
   ]
  },
  {
   "cell_type": "markdown",
   "metadata": {},
   "source": [
    "-->The relationship between independent and dependent variables is linear.\n",
    "-->we always tries to find best fit line to find optimal solutions.\n",
    "-->best fit helps in minimizing the errors between actual points and predicted points.\n",
    "-->final aim is to get the best fit line by minimising cost function"
   ]
  },
  {
   "cell_type": "markdown",
   "metadata": {},
   "source": [
    "Q3. How do you interpret the slope and intercept in a linear regression model? Provide an example using a real-world scenario."
   ]
  },
  {
   "cell_type": "markdown",
   "metadata": {},
   "source": [
    "intercept:-the intercept point is the starting point of the regression line.\n",
    "intercept point will be the predicted value if all the independent variables become zero.\n",
    "slope:-slope represents the change in dependent variable for 1 unit change in independent variable.\n",
    "-->slope represents strength and direction of linear regression.\n",
    "-->negative slope represents negative regression and positive slope represents positive regression. \n",
    "example:-predicting of house price."
   ]
  },
  {
   "cell_type": "markdown",
   "metadata": {},
   "source": [
    "Q4. Explain the concept of gradient descent. How is it used in machine learning?"
   ]
  },
  {
   "cell_type": "markdown",
   "metadata": {},
   "source": [
    "Gradient descent is an optimization algorithm used in machine learning to minimize a cost function. The primary goal is to find the optimal coefficients for a model that minimize the difference between predicted and actual values. The concept involves iteratively adjusting the parameters in the direction that reduces the cost function.\n",
    "uses:-\n",
    "lowest point in gradient descent curve represents global minima."
   ]
  },
  {
   "cell_type": "markdown",
   "metadata": {},
   "source": [
    "Q5. Describe the multiple linear regression model. How does it differ from simple linear regression?"
   ]
  },
  {
   "cell_type": "markdown",
   "metadata": {},
   "source": [
    "multiple linear Regression:-multiple regression extends the simple linear regression where dataset contains multiple independent features but only one dependent feature.\n",
    "equation:-h(x)=Θ0+Θ1x1+Θ2x2\n",
    "ex:-\n",
    "if we want to predict the salary of person based on his experience,education level and age then we use multiple regression.\n",
    "-->simple linear regression contains only one independent variable where as in multiple linear regression  contains more than one independent variable."
   ]
  },
  {
   "cell_type": "markdown",
   "metadata": {},
   "source": [
    "Q6. Explain the concept of multicollinearity in multiple linear regression. How can you detect and address this issue?"
   ]
  },
  {
   "cell_type": "markdown",
   "metadata": {},
   "source": [
    "Multicollinearity in multiple regression occurs when two or more independent variables are highly correlated. this makes difficult to interpret the relationship between variables accurately.\n",
    "detection of multicolinearity:-find the correlation between independent variables if independent variables are highly correlated the use only one variable which is more useful in predicted of output. "
   ]
  },
  {
   "cell_type": "markdown",
   "metadata": {},
   "source": [
    "Q7. Describe the polynomial regression model. How is it different from linear regression?"
   ]
  },
  {
   "cell_type": "markdown",
   "metadata": {},
   "source": [
    "Polynomial regression is used for no linear data.polynomial regression line depends on polynomial degree.polynomial curve is formed when graph is ploted for dependent feature againest independent feature.\n",
    "-->best fit line forms straight line in simple linear regression in polynomial regression it forms polynomial curve."
   ]
  },
  {
   "cell_type": "markdown",
   "metadata": {},
   "source": [
    "Q8. What are the advantages and disadvantages of polynomial regression compared to linear regression? In what situations would you prefer to use polynomial regression?"
   ]
  },
  {
   "cell_type": "markdown",
   "metadata": {},
   "source": [
    "advantages:-it will make accurate predictions when non-linear data is present.\n",
    "disadvantage:-complexity increases with increasing polynomial degree.\n",
    "sometimes overfitting occures in polynomial regression.\n",
    "use:-\n",
    "if non linear data is present in the given dataset, then we use polynomial regression."
   ]
  },
  {
   "cell_type": "code",
   "execution_count": null,
   "metadata": {},
   "outputs": [],
   "source": []
  },
  {
   "cell_type": "markdown",
   "metadata": {},
   "source": []
  },
  {
   "cell_type": "markdown",
   "metadata": {},
   "source": []
  },
  {
   "cell_type": "markdown",
   "metadata": {},
   "source": []
  },
  {
   "cell_type": "markdown",
   "metadata": {},
   "source": []
  }
 ],
 "metadata": {
  "language_info": {
   "name": "python"
  }
 },
 "nbformat": 4,
 "nbformat_minor": 2
}
